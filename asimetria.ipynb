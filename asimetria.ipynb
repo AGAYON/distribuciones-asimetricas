{
 "cells": [
  {
   "cell_type": "markdown",
   "id": "b77c81a2",
   "metadata": {},
   "source": [
    "#           Distribuciones asimétricas y leptocúrticas\n",
    "###        Representatividad de distribuciones complejas\n",
    "Andrés Gayón García"
   ]
  },
  {
   "cell_type": "markdown",
   "id": "f5f94d4d",
   "metadata": {},
   "source": [
    "Este trabajo nació de la necesidad de establecer un dato único para representar el salario de la población mexicana. Es bien sabido que la distribución del ingreso es desigual a lo largo del mundo. (CITAR AQUI UN PAR DE ESTUDIOS). Esta situación ocasiona que la distribución se aleje hasta abandonar el parecido una distribución normal. "
   ]
  },
  {
   "cell_type": "markdown",
   "id": "01103685",
   "metadata": {},
   "source": [
    "Para establecer un dato único de salario que se pudiera utilizar para calcular un costo de oportunidad "
   ]
  },
  {
   "cell_type": "code",
   "execution_count": null,
   "id": "2454033d",
   "metadata": {},
   "outputs": [],
   "source": []
  }
 ],
 "metadata": {
  "kernelspec": {
   "display_name": ".venv",
   "language": "python",
   "name": "python3"
  },
  "language_info": {
   "name": "python",
   "version": "3.13.3"
  }
 },
 "nbformat": 4,
 "nbformat_minor": 5
}
