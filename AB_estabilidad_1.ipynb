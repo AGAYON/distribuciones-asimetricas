{
 "cells": [
  {
   "cell_type": "code",
   "execution_count": 2,
   "id": "12a49a7a",
   "metadata": {},
   "outputs": [],
   "source": [
    "# Bloque 0: imports y setup\n",
    "import numpy as np\n",
    "import pandas as pd\n",
    "from tqdm import tqdm\n",
    "import defs\n",
    "import defs2\n",
    "import funciones_aux\n",
    "from funciones_aux import eval_one_sim, bowley_skew, excess_kurtosis, run_resumenes, run_tests, victorias_grouped, columnas_comparacion_default\n",
    "import matplotlib.pyplot as plt\n",
    "import seaborn as sns\n",
    "\n",
    "\n",
    "RANDOM_SEED = 123\n",
    "rng = np.random.default_rng(RANDOM_SEED)"
   ]
  },
  {
   "cell_type": "code",
   "execution_count": 3,
   "id": "c9008f82",
   "metadata": {},
   "outputs": [
    {
     "name": "stderr",
     "output_type": "stream",
     "text": [
      "  1%|          | 6/1000 [00:07<20:28,  1.24s/it]\n",
      "\n"
     ]
    },
    {
     "ename": "KeyboardInterrupt",
     "evalue": "",
     "output_type": "error",
     "traceback": [
      "\u001b[31m---------------------------------------------------------------------------\u001b[39m",
      "\u001b[31mKeyboardInterrupt\u001b[39m                         Traceback (most recent call last)",
      "\u001b[36mCell\u001b[39m\u001b[36m \u001b[39m\u001b[32mIn[3]\u001b[39m\u001b[32m, line 6\u001b[39m\n\u001b[32m      4\u001b[39m rows = []\n\u001b[32m      5\u001b[39m \u001b[38;5;28;01mfor\u001b[39;00m s \u001b[38;5;129;01min\u001b[39;00m tqdm(\u001b[38;5;28mrange\u001b[39m(\u001b[32m1\u001b[39m, S+\u001b[32m1\u001b[39m)):\n\u001b[32m----> \u001b[39m\u001b[32m6\u001b[39m     rows.append(\u001b[43meval_one_sim\u001b[49m\u001b[43m(\u001b[49m\u001b[43ms\u001b[49m\u001b[43m,\u001b[49m\u001b[43m \u001b[49m\u001b[43mrng\u001b[49m\u001b[43m)\u001b[49m)\n\u001b[32m      8\u001b[39m df_ab = pd.DataFrame(rows)\n\u001b[32m     10\u001b[39m \u001b[38;5;28mprint\u001b[39m(\u001b[33m\"\u001b[39m\u001b[33m✅ Simulaciones completadas:\u001b[39m\u001b[33m\"\u001b[39m, \u001b[38;5;28mlen\u001b[39m(df_ab))\n",
      "\u001b[36mFile \u001b[39m\u001b[32mc:\\repo personal\\PYTHON\\distribuciones asimetricas\\funciones_aux.py:151\u001b[39m, in \u001b[36meval_one_sim\u001b[39m\u001b[34m(sim_id, rng, trim_prop)\u001b[39m\n\u001b[32m    149\u001b[39m \u001b[38;5;66;03m# métrica V1 (defs.py)\u001b[39;00m\n\u001b[32m    150\u001b[39m res_v1_full = metrica_ajustada(x)[\u001b[33m\"\u001b[39m\u001b[33mresultado\u001b[39m\u001b[33m\"\u001b[39m]\n\u001b[32m--> \u001b[39m\u001b[32m151\u001b[39m res_v1_trim = \u001b[43mmetrica_ajustada\u001b[49m\u001b[43m(\u001b[49m\u001b[43mx_trim\u001b[49m\u001b[43m)\u001b[49m[\u001b[33m\"\u001b[39m\u001b[33mresultado\u001b[39m\u001b[33m\"\u001b[39m]\n\u001b[32m    152\u001b[39m mp1_full = \u001b[38;5;28mfloat\u001b[39m(res_v1_full[\u001b[33m\"\u001b[39m\u001b[33mtendencia_ponderada\u001b[39m\u001b[33m\"\u001b[39m])\n\u001b[32m    153\u001b[39m mp1_trim = \u001b[38;5;28mfloat\u001b[39m(res_v1_trim[\u001b[33m\"\u001b[39m\u001b[33mtendencia_ponderada\u001b[39m\u001b[33m\"\u001b[39m])\n",
      "\u001b[36mFile \u001b[39m\u001b[32mc:\\repo personal\\PYTHON\\distribuciones asimetricas\\defs.py:471\u001b[39m, in \u001b[36mmetrica_ajustada\u001b[39m\u001b[34m(x, usar_expansion, columna_expansion, expansion_data)\u001b[39m\n\u001b[32m    468\u001b[39m \u001b[38;5;28;01mif\u001b[39;00m n >= \u001b[32m50\u001b[39m:  \u001b[38;5;66;03m# Solo evaluar moda con muestra suficiente\u001b[39;00m\n\u001b[32m    469\u001b[39m     \u001b[38;5;66;03m# Evaluación preliminar de la moda\u001b[39;00m\n\u001b[32m    470\u001b[39m     \u001b[38;5;28;01mtry\u001b[39;00m:\n\u001b[32m--> \u001b[39m\u001b[32m471\u001b[39m         moda_info = \u001b[43mmoda_kde_robusta\u001b[49m\u001b[43m(\u001b[49m\n\u001b[32m    472\u001b[39m \u001b[43m            \u001b[49m\u001b[43mx_clean\u001b[49m\u001b[43m,\u001b[49m\u001b[43m \u001b[49m\n\u001b[32m    473\u001b[39m \u001b[43m            \u001b[49m\u001b[43musar_expansion\u001b[49m\u001b[43m=\u001b[49m\u001b[43musar_expansion\u001b[49m\u001b[43m,\u001b[49m\n\u001b[32m    474\u001b[39m \u001b[43m            \u001b[49m\u001b[43mcolumna_expansion\u001b[49m\u001b[43m=\u001b[49m\u001b[43mcolumna_expansion\u001b[49m\u001b[43m,\u001b[49m\n\u001b[32m    475\u001b[39m \u001b[43m            \u001b[49m\u001b[43mexpansion_data\u001b[49m\u001b[43m=\u001b[49m\u001b[43mexpansion_data\u001b[49m\u001b[43m,\u001b[49m\n\u001b[32m    476\u001b[39m \u001b[43m            \u001b[49m\u001b[43mmin_peak_height\u001b[49m\u001b[43m=\u001b[49m\u001b[32;43m0.15\u001b[39;49m\u001b[43m,\u001b[49m\u001b[43m  \u001b[49m\u001b[38;5;66;43;03m# Más estricto para evaluación\u001b[39;49;00m\n\u001b[32m    477\u001b[39m \u001b[43m            \u001b[49m\u001b[43mmin_peak_width\u001b[49m\u001b[43m=\u001b[49m\u001b[32;43m0.05\u001b[39;49m\n\u001b[32m    478\u001b[39m \u001b[43m        \u001b[49m\u001b[43m)\u001b[49m\n\u001b[32m    480\u001b[39m         altura_pico = moda_info[\u001b[33m\"\u001b[39m\u001b[33maltura_relativa\u001b[39m\u001b[33m\"\u001b[39m]\n\u001b[32m    481\u001b[39m         ancho_pico = moda_info[\u001b[33m\"\u001b[39m\u001b[33mancho_pico\u001b[39m\u001b[33m\"\u001b[39m]\n",
      "\u001b[36mFile \u001b[39m\u001b[32mc:\\repo personal\\PYTHON\\distribuciones asimetricas\\defs.py:116\u001b[39m, in \u001b[36mmoda_kde_robusta\u001b[39m\u001b[34m(x, bw_method, grid_size, usar_expansion, columna_expansion, expansion_data, expansion_factor, min_peak_height, min_peak_width)\u001b[39m\n\u001b[32m    114\u001b[39m grid_max = x_max + (expansion_range - \u001b[32m1\u001b[39m) * rango / \u001b[32m2\u001b[39m\n\u001b[32m    115\u001b[39m grid = np.linspace(grid_min, grid_max, grid_size)\n\u001b[32m--> \u001b[39m\u001b[32m116\u001b[39m dens = \u001b[43mkde\u001b[49m\u001b[43m(\u001b[49m\u001b[43mgrid\u001b[49m\u001b[43m)\u001b[49m\n\u001b[32m    118\u001b[39m \u001b[38;5;66;03m# Encontrar el pico principal\u001b[39;00m\n\u001b[32m    119\u001b[39m max_idx = np.argmax(dens)\n",
      "\u001b[36mFile \u001b[39m\u001b[32mc:\\repo personal\\PYTHON\\distribuciones asimetricas\\.venv\\Lib\\site-packages\\scipy\\stats\\_kde.py:280\u001b[39m, in \u001b[36mgaussian_kde.evaluate\u001b[39m\u001b[34m(self, points)\u001b[39m\n\u001b[32m    277\u001b[39m         \u001b[38;5;28;01mraise\u001b[39;00m \u001b[38;5;167;01mValueError\u001b[39;00m(msg)\n\u001b[32m    279\u001b[39m output_dtype, spec = _get_output_dtype(\u001b[38;5;28mself\u001b[39m.covariance, points)\n\u001b[32m--> \u001b[39m\u001b[32m280\u001b[39m result = \u001b[43mgaussian_kernel_estimate\u001b[49m\u001b[43m[\u001b[49m\u001b[43mspec\u001b[49m\u001b[43m]\u001b[49m\u001b[43m(\u001b[49m\n\u001b[32m    281\u001b[39m \u001b[43m    \u001b[49m\u001b[38;5;28;43mself\u001b[39;49m\u001b[43m.\u001b[49m\u001b[43mdataset\u001b[49m\u001b[43m.\u001b[49m\u001b[43mT\u001b[49m\u001b[43m,\u001b[49m\u001b[43m \u001b[49m\u001b[38;5;28;43mself\u001b[39;49m\u001b[43m.\u001b[49m\u001b[43mweights\u001b[49m\u001b[43m[\u001b[49m\u001b[43m:\u001b[49m\u001b[43m,\u001b[49m\u001b[43m \u001b[49m\u001b[38;5;28;43;01mNone\u001b[39;49;00m\u001b[43m]\u001b[49m\u001b[43m,\u001b[49m\n\u001b[32m    282\u001b[39m \u001b[43m    \u001b[49m\u001b[43mpoints\u001b[49m\u001b[43m.\u001b[49m\u001b[43mT\u001b[49m\u001b[43m,\u001b[49m\u001b[43m \u001b[49m\u001b[38;5;28;43mself\u001b[39;49m\u001b[43m.\u001b[49m\u001b[43mcho_cov\u001b[49m\u001b[43m,\u001b[49m\u001b[43m \u001b[49m\u001b[43moutput_dtype\u001b[49m\u001b[43m)\u001b[49m\n\u001b[32m    284\u001b[39m \u001b[38;5;28;01mreturn\u001b[39;00m result[:, \u001b[32m0\u001b[39m]\n",
      "\u001b[31mKeyboardInterrupt\u001b[39m: "
     ]
    }
   ],
   "source": [
    "# Bloque 3: loop principal de simulación (1000)\n",
    "\n",
    "S = 1000\n",
    "rows = []\n",
    "for s in tqdm(range(1, S+1)):\n",
    "    rows.append(eval_one_sim(s, rng))\n",
    "\n",
    "df_ab = pd.DataFrame(rows)\n",
    "\n",
    "print(\"✅ Simulaciones completadas:\", len(df_ab))\n",
    "print(\"Columnas:\", list(df_ab.columns))\n",
    "df_ab.head()\n"
   ]
  },
  {
   "cell_type": "code",
   "execution_count": null,
   "id": "ff0df2d7",
   "metadata": {},
   "outputs": [],
   "source": [
    "# Bloque 4: Resumen de victorias\n",
    "comparisons = columnas_comparacion_default()\n",
    "# Resumen global de victorias (proporciones y diferencias promedio)\n",
    "df_resumenes = run_resumenes(df_ab, comparisons, threshold=0.0)\n",
    "df_resumenes"
   ]
  },
  {
   "cell_type": "code",
   "execution_count": null,
   "id": "481a4b3d",
   "metadata": {},
   "outputs": [],
   "source": [
    "# Proporciones de victorias por subgrupos\n",
    "cols_diffs = [c for c, _ in comparisons]\n",
    "\n",
    "victorias_familia   = victorias_grouped(df_ab, \"familia\",       cols_diffs, threshold=0.0)\n",
    "victorias_outliers  = victorias_grouped(df_ab, \"tuvo_outliers\", cols_diffs, threshold=0.0)\n",
    "victorias_rango_n   = victorias_grouped(df_ab, \"rango_n\",       cols_diffs, threshold=0.0)\n",
    "\n",
    "print(\"--- Proporción de victorias por familia ---\")\n",
    "display(victorias_familia)\n",
    "\n",
    "print(\"\\n--- Proporción de victorias por outliers ---\")\n",
    "display(victorias_outliers)\n",
    "\n",
    "print(\"\\n--- Proporción de victorias por rango_n ---\")\n",
    "display(victorias_rango_n)\n"
   ]
  },
  {
   "cell_type": "code",
   "execution_count": null,
   "id": "46cea2b9",
   "metadata": {},
   "outputs": [],
   "source": [
    "# Tests estadísticos (Wilcoxon unilateral)\n",
    "df_tests = run_tests(df_ab, comparisons, alternative=\"greater\")\n",
    "df_tests\n"
   ]
  },
  {
   "cell_type": "code",
   "execution_count": null,
   "id": "3394a741",
   "metadata": {},
   "outputs": [],
   "source": [
    "# # (Opcional) Persistir tablas a CSV para el apéndice del experimento\n",
    "# df_resumenes.to_csv(\"ab_resumenes.csv\", index=False)\n",
    "# victorias_familia.to_csv(\"ab_victorias_por_familia.csv\", index=False)\n",
    "# victorias_outliers.to_csv(\"ab_victorias_por_outliers.csv\", index=False)\n",
    "# victorias_rango_n.to_csv(\"ab_victorias_por_rangon.csv\", index=False)\n",
    "# df_tests.to_csv(\"ab_tests_wilcoxon.csv\", index=False)\n",
    "# print(\"CSV exportados ✅\")\n"
   ]
  },
  {
   "cell_type": "markdown",
   "id": "2db85418",
   "metadata": {},
   "source": [
    "### Visualizaciones"
   ]
  },
  {
   "cell_type": "code",
   "execution_count": null,
   "id": "16b9de41",
   "metadata": {},
   "outputs": [],
   "source": [
    "\n",
    "# Configuración estética\n",
    "sns.set(style=\"whitegrid\", context=\"talk\")\n",
    "\n",
    "# --- 1. Dispersión: delta_mean vs delta_mp1 y delta_mp2 ---\n",
    "fig, axes = plt.subplots(1, 2, figsize=(14, 6), sharex=True, sharey=True)\n",
    "\n",
    "sns.scatterplot(\n",
    "    data=df_ab, x=\"delta_mean\", y=\"delta_mp1\",\n",
    "    hue=\"familia\", alpha=0.6, ax=axes[0], legend=False\n",
    ")\n",
    "axes[0].plot([0, df_ab[[\"delta_mean\",\"delta_mp1\"]].max().max()],\n",
    "             [0, df_ab[[\"delta_mean\",\"delta_mp1\"]].max().max()],\n",
    "             'r--')\n",
    "axes[0].set_title(\"V1 vs Media (delta)\")\n",
    "axes[0].set_xlabel(\"Δ Media\")\n",
    "axes[0].set_ylabel(\"Δ Métrica V1\")\n",
    "\n",
    "sns.scatterplot(\n",
    "    data=df_ab, x=\"delta_mean\", y=\"delta_mp2\",\n",
    "    hue=\"familia\", alpha=0.6, ax=axes[1]\n",
    ")\n",
    "axes[1].plot([0, df_ab[[\"delta_mean\",\"delta_mp2\"]].max().max()],\n",
    "             [0, df_ab[[\"delta_mean\",\"delta_mp2\"]].max().max()],\n",
    "             'r--')\n",
    "axes[1].set_title(\"V2 vs Media (delta)\")\n",
    "axes[1].set_xlabel(\"Δ Media\")\n",
    "axes[1].set_ylabel(\"Δ Métrica V2\")\n",
    "\n",
    "plt.tight_layout()\n",
    "plt.show()\n"
   ]
  },
  {
   "cell_type": "code",
   "execution_count": null,
   "id": "b6c32009",
   "metadata": {},
   "outputs": [],
   "source": [
    "# --- 2. Histograma de mejoras directas ---\n",
    "fig, axes = plt.subplots(1, 3, figsize=(18, 5))\n",
    "\n",
    "sns.histplot(df_ab[\"d_mp1_vs_mean\"], bins=40, kde=True, ax=axes[0], color=\"skyblue\")\n",
    "axes[0].axvline(0, color=\"red\", linestyle=\"--\")\n",
    "axes[0].set_title(\"V1 – Media (Δ estabilidad)\")\n",
    "\n",
    "sns.histplot(df_ab[\"d_mp2_vs_mean\"], bins=40, kde=True, ax=axes[1], color=\"lightgreen\")\n",
    "axes[1].axvline(0, color=\"red\", linestyle=\"--\")\n",
    "axes[1].set_title(\"V2 – Media (Δ estabilidad)\")\n",
    "\n",
    "sns.histplot(df_ab[\"d_v2_vs_v1\"], bins=40, kde=True, ax=axes[2], color=\"orange\")\n",
    "axes[2].axvline(0, color=\"red\", linestyle=\"--\")\n",
    "axes[2].set_title(\"V2 – V1 (Δ estabilidad)\")\n",
    "\n",
    "plt.tight_layout()\n",
    "plt.show()\n"
   ]
  },
  {
   "cell_type": "code",
   "execution_count": null,
   "id": "d22820cb",
   "metadata": {},
   "outputs": [],
   "source": [
    "# --- 3. Proporciones de victorias por familia ---\n",
    "cols_diffs = [\"d_mp1_vs_mean\", \"d_mp2_vs_mean\", \"d_v2_vs_v1\"]\n",
    "prop_fam = (\n",
    "    df_ab.groupby(\"familia\")[cols_diffs]\n",
    "         .apply(lambda g: (g > 0).mean())\n",
    "         .reset_index()\n",
    "         .melt(id_vars=\"familia\", var_name=\"comparacion\", value_name=\"prop_victorias\")\n",
    ")\n",
    "\n",
    "plt.figure(figsize=(12, 6))\n",
    "sns.barplot(data=prop_fam, x=\"familia\", y=\"prop_victorias\", hue=\"comparacion\")\n",
    "plt.axhline(0.5, color=\"red\", linestyle=\"--\")\n",
    "plt.title(\"Proporción de victorias por familia\")\n",
    "plt.ylabel(\"Proporción de casos donde Δ > 0\")\n",
    "plt.ylim(0, 1)\n",
    "plt.xticks(rotation=45)\n",
    "plt.legend(title=\"Comparación\")\n",
    "plt.show()\n"
   ]
  },
  {
   "cell_type": "code",
   "execution_count": null,
   "id": "494f9900",
   "metadata": {},
   "outputs": [],
   "source": [
    "# --- 4. Heatmap de victorias por (familia x outliers) ---\n",
    "heat_data = (\n",
    "    df_ab.groupby([\"familia\", \"tuvo_outliers\"])[\"d_v2_vs_v1\"]\n",
    "         .apply(lambda x: (x > 0).mean())\n",
    "         .unstack()\n",
    ")\n",
    "\n",
    "plt.figure(figsize=(8, 6))\n",
    "sns.heatmap(heat_data, annot=True, fmt=\".2f\", cmap=\"YlGnBu\", cbar_kws={'label': 'Proporción V2 > V1'})\n",
    "plt.title(\"Proporción V2 > V1 por familia y presencia de outliers\")\n",
    "plt.ylabel(\"Familia\")\n",
    "plt.xlabel(\"Tuvo Outliers\")\n",
    "plt.show()\n"
   ]
  }
 ],
 "metadata": {
  "kernelspec": {
   "display_name": ".venv",
   "language": "python",
   "name": "python3"
  },
  "language_info": {
   "codemirror_mode": {
    "name": "ipython",
    "version": 3
   },
   "file_extension": ".py",
   "mimetype": "text/x-python",
   "name": "python",
   "nbconvert_exporter": "python",
   "pygments_lexer": "ipython3",
   "version": "3.13.3"
  }
 },
 "nbformat": 4,
 "nbformat_minor": 5
}
